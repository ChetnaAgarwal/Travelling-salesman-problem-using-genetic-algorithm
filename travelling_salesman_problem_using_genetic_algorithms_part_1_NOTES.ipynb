{
  "nbformat": 4,
  "nbformat_minor": 0,
  "metadata": {
    "colab": {
      "name": "travelling salesman problem using genetic algorithms part 1 - NOTES.ipynb",
      "provenance": [],
      "collapsed_sections": []
    },
    "kernelspec": {
      "name": "python3",
      "display_name": "Python 3"
    },
    "language_info": {
      "name": "python"
    }
  },
  "cells": [
    {
      "cell_type": "markdown",
      "metadata": {
        "id": "SeJm1WH9Til7"
      },
      "source": [
        "## THEORY PART"
      ]
    },
    {
      "cell_type": "markdown",
      "metadata": {
        "id": "UvUhHBJtToOs"
      },
      "source": [
        "1. DNA\n",
        "\n",
        "2. Fitness function\n",
        "\n",
        "3. Population\n",
        "\n",
        "4. Selection\n",
        "\n",
        "5. Crossover\n",
        "\n",
        "6. Mutation"
      ]
    },
    {
      "cell_type": "markdown",
      "metadata": {
        "id": "-7zMsFwGT1WB"
      },
      "source": [
        "## THE DNA"
      ]
    },
    {
      "cell_type": "code",
      "metadata": {
        "id": "9-D8cfDdTj4v"
      },
      "source": [
        "# A sequence that defines how a bot with this DNA behaves or looks. \n",
        "# eg - it can be a sequence of moves or of behaviors.\n",
        "# DNA length variable - length of the dna"
      ],
      "execution_count": null,
      "outputs": []
    },
    {
      "cell_type": "markdown",
      "metadata": {
        "id": "EJJBqcZLUvq8"
      },
      "source": [
        "## FITNESS FUNCTION"
      ]
    },
    {
      "cell_type": "code",
      "metadata": {
        "id": "j40vXtUAUvHE"
      },
      "source": [
        "# a function that defines how good our bot performed, ie, how far was it from \n",
        "# achieving what we wanted.\n",
        "# eg - in a maze, we can calculate the distance of the current position from the\n",
        "# target position using distance formula in the coordinate plane.\n",
        "# The lower the fitness, the better the results."
      ],
      "execution_count": null,
      "outputs": []
    },
    {
      "cell_type": "markdown",
      "metadata": {
        "id": "HiDZZRrAVgTt"
      },
      "source": [
        "## POPULATION"
      ]
    },
    {
      "cell_type": "code",
      "metadata": {
        "id": "mZYO3rHZVLUH"
      },
      "source": [
        "# Genetic algos dont use just a single bot. In fact, they use a whole population of bots.\n",
        "# So, a population in GAs is a collection of all the bots which we are evaluating and\n",
        "# calculating the fitness function for."
      ],
      "execution_count": null,
      "outputs": []
    },
    {
      "cell_type": "code",
      "metadata": {
        "id": "fHQ5TSPQWGod"
      },
      "source": [
        "# we list the name, dna and fitness for all these N bots.\n",
        "# N - population size\n",
        "# This collection of bots is called \"first population\" and all the dnas (sequence of \n",
        "# moves)in this list are random. "
      ],
      "execution_count": null,
      "outputs": []
    },
    {
      "cell_type": "markdown",
      "metadata": {
        "id": "l4abgWp-WxY7"
      },
      "source": [
        "## SELECTION"
      ]
    },
    {
      "cell_type": "code",
      "metadata": {
        "id": "M7sCOWRpWyeT"
      },
      "source": [
        "# Selection is a process during which we select the best bots from the current\n",
        "# population to then create a new generation of bots.\n",
        "# STEPS INVOLVED :-\n",
        "# 1. It first sorts the bots based on their fitness values.\n",
        "# 2. Then, the best bots are selected by taking, say best 10 bots (or a percentage\n",
        "# of total number of bots) \n",
        "# 3. All other bots are discarded."
      ],
      "execution_count": null,
      "outputs": []
    },
    {
      "cell_type": "markdown",
      "metadata": {
        "id": "-vTWz4riZIzy"
      },
      "source": [
        "## CROSSOVER"
      ]
    },
    {
      "cell_type": "code",
      "metadata": {
        "id": "bBIB8GgWZHxV"
      },
      "source": [
        "# We take any 2 bots (parent bots) obtained from the previous step and mix the DNA\n",
        "# of these 2 to create a new bot (offspring)\n",
        "# This new bot will be a part of the new generation/population.\n",
        "# These new dnas will be better than the old ones.\n",
        "# A whole new population is created and a new table is created. \n",
        "# But, the population should remain constant (equal to N). So, we'll have to shorten it. this\n",
        "# is handled in mutation."
      ],
      "execution_count": null,
      "outputs": []
    },
    {
      "cell_type": "markdown",
      "metadata": {
        "id": "rgJwYzgCaLdp"
      },
      "source": [
        "## MUTATION"
      ]
    },
    {
      "cell_type": "code",
      "metadata": {
        "id": "uK7_vkMdaMfY"
      },
      "source": [
        "# Mutation is a step in which we apply some random mutations/changes to this new \n",
        "# population of bots.\n",
        "# Why? We want GA to be searching for new possibilities, other than the ones we \n",
        "# already found.\n",
        "# 2 types : complete mutation and partial mutation"
      ],
      "execution_count": null,
      "outputs": []
    },
    {
      "cell_type": "code",
      "metadata": {
        "id": "X06tpZTCeJu6"
      },
      "source": [
        "# 1.Complete mutation\n",
        "# In this type of mutation, we create a new bot whose DNA is completely random - not\n",
        "# an offspring"
      ],
      "execution_count": null,
      "outputs": []
    },
    {
      "cell_type": "code",
      "metadata": {
        "id": "2pP_I6iYeLq_"
      },
      "source": [
        "# 2. partial mutation\n",
        "# In this type of mutation, we take an already existing offspring and mutate its DNA \n",
        "# slightly - a couple of genes."
      ],
      "execution_count": null,
      "outputs": []
    },
    {
      "cell_type": "code",
      "metadata": {
        "id": "LizKAANLin_m"
      },
      "source": [
        "# Also, the population is N size big - to preserve the length. If it increases or decreases\n",
        "# in each step, it could go to infinity or 0 if we train it for a long time."
      ],
      "execution_count": null,
      "outputs": []
    },
    {
      "cell_type": "code",
      "metadata": {
        "id": "C3_4MODBjJIZ"
      },
      "source": [
        ""
      ],
      "execution_count": null,
      "outputs": []
    }
  ]
}