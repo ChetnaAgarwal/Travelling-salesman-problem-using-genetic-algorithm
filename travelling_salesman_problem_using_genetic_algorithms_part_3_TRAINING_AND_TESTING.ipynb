{
  "nbformat": 4,
  "nbformat_minor": 0,
  "metadata": {
    "colab": {
      "name": "travelling salesman problem using genetic algorithms part 3 - TRAINING AND TESTING.ipynb",
      "provenance": [],
      "collapsed_sections": []
    },
    "kernelspec": {
      "name": "python3",
      "display_name": "Python 3"
    },
    "language_info": {
      "name": "python"
    },
    "accelerator": "GPU"
  },
  "cells": [
    {
      "cell_type": "code",
      "metadata": {
        "colab": {
          "base_uri": "https://localhost:8080/"
        },
        "id": "ng-9LAf8Esux",
        "outputId": "a2761680-f6f0-4cb8-c1f5-790267f07897"
      },
      "source": [
        "!pip install pygame"
      ],
      "execution_count": null,
      "outputs": [
        {
          "output_type": "stream",
          "name": "stdout",
          "text": [
            "Requirement already satisfied: pygame in /usr/local/lib/python3.7/dist-packages (2.1.0)\n"
          ]
        }
      ]
    },
    {
      "cell_type": "code",
      "metadata": {
        "colab": {
          "base_uri": "https://localhost:8080/"
        },
        "id": "0XXfij3-SENm",
        "outputId": "2543681a-0b40-4ed8-d351-9624558b0289"
      },
      "source": [
        "import pygame as pg\n",
        "import os\n",
        "os.environ['SDL_VIDEODRIVER']='dummy'\n",
        "import pygame\n",
        "pygame.display.set_mode((640,480))"
      ],
      "execution_count": null,
      "outputs": [
        {
          "output_type": "execute_result",
          "data": {
            "text/plain": [
              "<Surface(640x480x32 SW)>"
            ]
          },
          "metadata": {},
          "execution_count": 6
        }
      ]
    },
    {
      "cell_type": "code",
      "metadata": {
        "id": "BSaDVbHLiRjW"
      },
      "source": [
        "# Create the bots\n",
        "\n",
        "# Our main aim is to find the shortest route traversing all planets once.\n",
        "# Our population will consist of bots with dna containing different routes, \n",
        "# ie, some sequence of planets through which we should go.\n",
        "# eg of DNA : dna = 3,1,2,0\n",
        "\n",
        "# the fitness will be defined as the total distance travelled by our rocket\n",
        "\n",
        "class Route():\n",
        "\n",
        "  def __init__(self, dnaLength):\n",
        "    self.dnaLength = dnaLength\n",
        "    self.dna = list()\n",
        "    self.distance = 0 # fitness \n",
        "\n",
        "    # initialize the random DNA for initial population\n",
        "    # there should be no repetition in dna\n",
        "    for i in range(self.dnaLength - 1): \n",
        "    # use (dnaLength - 1) since the last gene will always be 0 (initial position) \n",
        "    # and we wont use genetic algo to optimize that.\n",
        "        rnd = np.random.randint(1, self.dnaLength) # upper bound excluded\n",
        "        # to avoid repetition\n",
        "        while rnd in self.dna:\n",
        "            rnd = np.random.randint(1, self.dnaLength)\n",
        "        self.dna.append(rnd)\n",
        "    self.dna.append(0) # for last position of dna, add 0 manually\n",
        "    \n",
        "\n",
        "    # build the crossover method\n",
        "    # we take sequence of 2 existing/parent dnas and mix them up to create new dna/ offpring\n",
        "    def mix(self, dna1, dna2):\n",
        "        # EXAMPLE:\n",
        "        # dna1 - 1,2,3,4,0\n",
        "        # dna2 - 4,3,2,1,0\n",
        "        # dna = dna1.copy()\n",
        "        # select index to perform change by inheriting gene from dna2\n",
        "        # i = 1, dna[i] = 2, dna2[i] = 3\n",
        "        # previous = dna[i]\n",
        "        # index3 = 2\n",
        "        # dna[index3] = previous\n",
        "        # dna = 1,2,2,4,0\n",
        "        # dna[i] = dna2[i]\n",
        "        # dna = 1,3,2,4,0\n",
        "        self.dna = dna1.copy()\n",
        "        for i in range(self.dnaLength - 1):\n",
        "          if np.random.rand() <= 0.5: \n",
        "          # 50% chance that this condition will be true, therefore, 50% chance that\n",
        "          # gene will be changed at this index acc to dna2\n",
        "              previous = self.dna[i]\n",
        "              inx = self.dna.index(dna2[i])\n",
        "              self.dna[inx] = previous\n",
        "              self.dna[i] = dna2[i]\n",
        "\n",
        "        # First Random partial mutations - mutate the dna slightly so that the offspring \n",
        "        # is not too similar to its parents.\n",
        "        # EXAMPLE : (pseudocode)\n",
        "        # dna = 1,2,3,4,0\n",
        "        # i = 1, dna[i] = 2\n",
        "        # previous = dna[i] = 2\n",
        "        # rnd = randint(1, self.dnaLength) = 4\n",
        "        # inx4 = 4\n",
        "        # dna[inx4] = previous\n",
        "        # dna = 1,2,3,2,0\n",
        "        # dna[i] = rnd\n",
        "        # dna = 1,4,3,2,0\n",
        "\n",
        "        for i in range(self.dnaLength - 1): # skip last gene\n",
        "            if np.random.rand() < 0.1: # 10% chance that it will mutate\n",
        "                previous = self.dna[i]\n",
        "                rnd = np.random.randint(1, self.dnaLength)\n",
        "                inx = self.dna.index(rnd)\n",
        "                self.dna[inx] = previous\n",
        "                self.dna[i] = rnd\n",
        "\n",
        "            # Second random partial mutation\n",
        "            # EXAMPLE : (Pseudocode)\n",
        "            # dna = 1,2,3,4,5,0\n",
        "            # i = 2\n",
        "            # rnd = random(1, self.dnaLength) = 1\n",
        "            # inx1 = 0\n",
        "            # insert rnd at index i\n",
        "            # dna = 1,2,1,3,4,5,0\n",
        "            # delete dna[inx1]\n",
        "            # dna = 2,1,3,4,5,0\n",
        "\n",
        "            # example 2:\n",
        "            # rnd = 5\n",
        "            # inx5 = 4\n",
        "            # insert rnd at index i\n",
        "            # dna = 1,2,5,3,4,5,0\n",
        "            # inx5 = 5\n",
        "\n",
        "            # one planet switches place to some other position in this mutation\n",
        "\n",
        "            elif np.random.rand() <= 0.1: # again 10% chance of performing this mutation\n",
        "              rnd = np.random.randint(1, self.dnaLength)\n",
        "              prevInx = self.dna.index(rnd)\n",
        "              self.dna.insert(i, rnd)\n",
        "              if i >= prevInx:\n",
        "                self.dna.pop(prevInx)\n",
        "              else:\n",
        "                self.dna.pop(prevInx + 1)\n",
        "            "
      ],
      "execution_count": null,
      "outputs": []
    },
    {
      "cell_type": "code",
      "metadata": {
        "id": "Wo8b7sd8iRln"
      },
      "source": [
        "# initialize the main code\n",
        "populationSize = 50 # no of bots we have in our population\n",
        "mutationRate = 0.1 # the chance that a new bot is a complete mutation and not an offspring\n",
        "nSelected = 5 # no of bots we take at each generation in the selection process, \n",
        "# ie, how many parents in total to create new generation\n",
        "\n",
        "env = Environment() # object of env class\n",
        "dnaLength =len(env.planets) # no of plnets we have in our system\n",
        "\n",
        "population = list()"
      ],
      "execution_count": null,
      "outputs": []
    },
    {
      "cell_type": "code",
      "metadata": {
        "id": "Am0LlqOeiRnc"
      },
      "source": [
        "# create the first random population\n",
        "for i in range(populationSize):\n",
        "  route = Route(dnaLength)\n",
        "  population.append(route)"
      ],
      "execution_count": null,
      "outputs": []
    },
    {
      "cell_type": "code",
      "metadata": {
        "id": "vubHvd69iRqE"
      },
      "source": [
        "# main while loop - will iterate thru every single generation. Inside, evaluate every population, \n",
        "# perform selection, crossover and mutation.\n",
        "\n",
        "generation = 0 # which gen we are in right now\n",
        "bestDist = np.inf # shortest distance found till now\n",
        "while True: # infinite loop - will terminate manually\n",
        "    generation += 1\n",
        "\n",
        "    # evaluate the population - calculate fitness\n",
        "    for route in population:\n",
        "      env.reset()\n",
        "\n",
        "      for i in range(dnaLength): # iterate thru all genes (planets)\n",
        "          action = route.dna[i]\n",
        "          route.distance += env.step(action, 'none') # this function return the distance\n",
        "\n",
        "      # sort the population\n",
        "      sortedPop = sorted(population, key = lambda x: x.distance)\n",
        "      # takes every single object along with its distance, sorts it acc. to distance \n",
        "      # and returns the sorted population\n",
        "      population.clear()\n",
        "\n",
        "      # check if the best bot in the new population was in fact better\n",
        "      if sortedPop[0].distance < bestDist:\n",
        "          bestDist = sortedPop[0].distance\n",
        "\n",
        "      # adding best previous bots to the population - not an obligatory step\n",
        "      # preserve genes of some of the best bots from previous generation\n",
        "      for i in range(nSelected):\n",
        "          best = sortedPop[i]\n",
        "          best.distance = 0 # reset bot distance\n",
        "          population.append(best)\n",
        "      \n",
        "      # fill in the rest of the population\n",
        "      # add a complete mutant and the offsprings of 2 other routes to our population\n",
        "      left = populationSize - nSelected # how much space we have left in the population\n",
        "      for i in range(left):\n",
        "        # create a new object of route class, ie, a new bot to add in popn\n",
        "        newRoute = Route(dnaLength) # this dna will be completely random\n",
        "        if np.random.rand() <= mutationRate: # completely random mutation added\n",
        "          population.append(newRoute)\n",
        "        else:\n",
        "          inx1 = np.random.randint(0, nSelected) \n",
        "          inx2 = np.random.randint(0, nSelected) # generate 2 random parents\n",
        "          while inx1 == inx2: # random parents should not be the same\n",
        "            inx2 = np.random.randint(0, nSelected)\n",
        "          \n",
        "          dna1 = sortedPop[inx1].dna\n",
        "          dna2 = sortedPop[inx2].dna\n",
        "\n",
        "          newRoute.mix(dna1, dna2) # mix up the 2 dnas\n",
        "          population.append(newRoute)\n",
        "\n",
        "      # display the results\n",
        "      env.reset()\n",
        "      # display the best route found\n",
        "      for i in range(dnaLength): # iterate thru the dna\n",
        "        action = sortedPopulation[0].dna[i] # # get the next planet to go to\n",
        "        # for the best dna (given by sortedPop[0])\n",
        "        _ = env.step(action, 'normal') # update the env acc to ith action - returns distance\n",
        "        # which we dont need\n",
        "\n",
        "      if generation % 100 == 0: # displaying tye rocket - only for 1 out of every 100 \n",
        "      # generations\n",
        "        env.reset()\n",
        "\n",
        "        for i in range(dnaLength):\n",
        "          action = sortedPopulation[0].dna[i]\n",
        "          _ = env.step(action, 'beautiful')\n",
        "      \n",
        "      print('Generation: '+ str(generation) + ' Shortest distance: {:.2f}'.format(bestDist) + 'light years')\n"
      ],
      "execution_count": null,
      "outputs": []
    },
    {
      "cell_type": "code",
      "metadata": {
        "id": "TEOupOw0iRtN"
      },
      "source": [
        ""
      ],
      "execution_count": null,
      "outputs": []
    },
    {
      "cell_type": "code",
      "metadata": {
        "id": "bseGINx9iRv0"
      },
      "source": [
        ""
      ],
      "execution_count": null,
      "outputs": []
    }
  ]
}